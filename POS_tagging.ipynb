{
  "nbformat": 4,
  "nbformat_minor": 0,
  "metadata": {
    "colab": {
      "name": "POS tagging.ipynb",
      "provenance": [],
      "collapsed_sections": []
    },
    "kernelspec": {
      "name": "python3",
      "display_name": "Python 3"
    },
    "accelerator": "GPU"
  },
  "cells": [
    {
      "cell_type": "markdown",
      "metadata": {
        "id": "m64QODN3LF4S"
      },
      "source": [
        "\n",
        "\n",
        "---\n",
        "**IMPORTS**\n",
        "\n",
        "---\n",
        "\n",
        "\n"
      ]
    },
    {
      "cell_type": "code",
      "metadata": {
        "id": "Y0jA6j762n4w",
        "colab": {
          "base_uri": "https://localhost:8080/",
          "height": 52
        },
        "outputId": "189f4770-0604-467a-ac4e-b3363559ed0f"
      },
      "source": [
        "!pip install conllu\n",
        "!git clone https://github.com/UniversalDependencies/UD_Sanskrit-Vedic/\n",
        "\n",
        "import warnings \n",
        "import numpy as np\n",
        "from io import open\n",
        "import pandas as pd\n",
        "from sklearn.svm import SVC\n",
        "from collections import Counter\n",
        "import matplotlib.pyplot as plt\n",
        "from conllu import parse_incr, parse\n",
        "from sklearn.preprocessing import LabelEncoder\n",
        "from sklearn.tree import DecisionTreeClassifier\n",
        "from sklearn.neural_network import MLPClassifier\n",
        "from sklearn.ensemble import RandomForestClassifier\n",
        "from sklearn.feature_extraction import DictVectorizer\n",
        "from sklearn.model_selection import KFold, cross_val_score\n",
        "warnings.filterwarnings(\"ignore\", category=DeprecationWarning)\n",
        "from sklearn.metrics import classification_report, accuracy_score\n",
        "\n",
        "from keras import models\n",
        "from keras import layers\n",
        "from keras.optimizers import Nadam\n",
        "from keras.utils.np_utils import to_categorical\n",
        "from keras.layers import Input, Dense, Dropout, Flatten"
      ],
      "execution_count": null,
      "outputs": [
        {
          "output_type": "stream",
          "text": [
            "Requirement already satisfied: conllu in /usr/local/lib/python3.6/dist-packages (4.2.1)\n",
            "fatal: destination path 'UD_Sanskrit-Vedic' already exists and is not an empty directory.\n"
          ],
          "name": "stdout"
        }
      ]
    },
    {
      "cell_type": "markdown",
      "metadata": {
        "id": "5JD2VYWSLNlY"
      },
      "source": [
        "\n",
        "---\n",
        "**READING THE DATASET**\n",
        "\n",
        "---"
      ]
    },
    {
      "cell_type": "code",
      "metadata": {
        "id": "Y2Yi1AN86D1U",
        "colab": {
          "base_uri": "https://localhost:8080/",
          "height": 35
        },
        "outputId": "45221789-78b5-410c-aba2-db052911585a"
      },
      "source": [
        "def read_data(data_file):\n",
        "\n",
        "  tokenlist = parse_incr(data_file)\n",
        "  sentences = []\n",
        "\n",
        "  for tokens in tokenlist:\n",
        "    new_list = []\n",
        "    for t in tokens:\n",
        "      new_list.append((t['lemma'], t['upos']))\n",
        "    sentences.append(new_list)\n",
        "\n",
        "  return sentences\n",
        "\n",
        "\n",
        "train_data_file = open(\"/content/UD_Sanskrit-Vedic/sa_vedic-ud-train.conllu\", \"r\", encoding=\"utf-8\")\n",
        "test_data_file = open(\"/content/UD_Sanskrit-Vedic/sa_vedic-ud-test.conllu\", \"r\", encoding=\"utf-8\")\n",
        "\n",
        "train_sentences = read_data(train_data_file)\n",
        "test_sentences = read_data(test_data_file)\n",
        "\n",
        "print(len(train_sentences), len(test_sentences))"
      ],
      "execution_count": null,
      "outputs": [
        {
          "output_type": "stream",
          "text": [
            "2524 1473\n"
          ],
          "name": "stdout"
        }
      ]
    },
    {
      "cell_type": "markdown",
      "metadata": {
        "id": "RYRMNHhqLQnS"
      },
      "source": [
        "\n",
        "---\n",
        "\n",
        "**FEATURE GENERATION**\n",
        "\n",
        "---"
      ]
    },
    {
      "cell_type": "code",
      "metadata": {
        "id": "FMI-QYdj7OKp"
      },
      "source": [
        "def create_features_set(sentence_terms, index):\n",
        "    \n",
        "  term = sentence_terms[index]\n",
        "\n",
        "  return {\n",
        "      'nb_terms': len(sentence_terms),\n",
        "      'term': term,\n",
        "      'is_first': index == 0,\n",
        "      'is_last': index == len(sentence_terms) - 1,\n",
        "      'is_capitalized': term[0].upper() == term[0],\n",
        "      'is_all_caps': term.upper() == term,\n",
        "      'is_all_lower': term.lower() == term,\n",
        "      'prefix-1': term[0],\n",
        "      'prefix-2': term[:2],\n",
        "      'prefix-3': term[:3],\n",
        "      'suffix-1': term[-1],\n",
        "      'suffix-2': term[-2:],\n",
        "      'suffix-3': term[-3:],\n",
        "      'prev_word': '' if index == 0 else sentence_terms[index - 1],\n",
        "      'next_word': '' if index == len(sentence_terms) - 1 else sentence_terms[index + 1]\n",
        "  }\n",
        "\n",
        "\n",
        "def create_dataset(tagged_sentences):\n",
        "    \n",
        "  X, y, words = [], [], []\n",
        "\n",
        "  for pos_tags in tagged_sentences:\n",
        "    for index, (term, class_) in enumerate(pos_tags):\n",
        "        words.append(term)\n",
        "        X.append(create_features_set([w for w, _ in pos_tags], index))\n",
        "        y.append(class_)\n",
        "\n",
        "  return X, y, words"
      ],
      "execution_count": null,
      "outputs": []
    },
    {
      "cell_type": "code",
      "metadata": {
        "id": "c3HaAve4QowF"
      },
      "source": [
        "X_train, y_train, train_unprocessed_features = create_dataset(train_sentences)\n",
        "X_test, y_test, test_unprocessed_features = create_dataset(test_sentences)\n",
        "train_unprocessed_labels, test_unprocessed_labels = y_train, y_test"
      ],
      "execution_count": null,
      "outputs": []
    },
    {
      "cell_type": "code",
      "metadata": {
        "id": "Z08wZXm_zi6V"
      },
      "source": [
        "split_percent = 1.0 # SPLITTING THE TRAINING DATA\n",
        "X_train = X_train[:int(len(X_train) * split_percent)] \n",
        "y_train = y_train[:int(len(y_train) * split_percent)]\n",
        "train_unprocessed_labels = train_unprocessed_labels[:int(len(train_unprocessed_labels) * split_percent)]"
      ],
      "execution_count": null,
      "outputs": []
    },
    {
      "cell_type": "code",
      "metadata": {
        "id": "Pjy4gPwKscSb",
        "colab": {
          "base_uri": "https://localhost:8080/",
          "height": 246
        },
        "outputId": "eb600628-f6cd-4169-db9d-192339781b4c"
      },
      "source": [
        "print('Total lables Train: ' + str(len(train_unprocessed_labels)) + '\\n')\n",
        "Counter(train_unprocessed_labels)"
      ],
      "execution_count": null,
      "outputs": [
        {
          "output_type": "stream",
          "text": [
            "Total lables Train: 17445\n",
            "\n"
          ],
          "name": "stdout"
        },
        {
          "output_type": "execute_result",
          "data": {
            "text/plain": [
              "Counter({'ADJ': 1503,\n",
              "         'ADV': 1860,\n",
              "         'AUX': 211,\n",
              "         'CCONJ': 462,\n",
              "         'DET': 117,\n",
              "         'NOUN': 5768,\n",
              "         'NUM': 203,\n",
              "         'PART': 1105,\n",
              "         'PRON': 2705,\n",
              "         'SCONJ': 168,\n",
              "         'VERB': 3343})"
            ]
          },
          "metadata": {
            "tags": []
          },
          "execution_count": 6
        }
      ]
    },
    {
      "cell_type": "code",
      "metadata": {
        "id": "VZ65fjcZCMj_",
        "colab": {
          "base_uri": "https://localhost:8080/",
          "height": 246
        },
        "outputId": "053a6322-3d1d-42da-f739-e7f53decc303"
      },
      "source": [
        "print('Total lables Test: ' + str(len(test_unprocessed_labels)) + '\\n')\n",
        "Counter(test_unprocessed_labels)"
      ],
      "execution_count": null,
      "outputs": [
        {
          "output_type": "stream",
          "text": [
            "Total lables Test: 9672\n",
            "\n"
          ],
          "name": "stdout"
        },
        {
          "output_type": "execute_result",
          "data": {
            "text/plain": [
              "Counter({'ADJ': 870,\n",
              "         'ADV': 1084,\n",
              "         'AUX': 90,\n",
              "         'CCONJ': 152,\n",
              "         'DET': 48,\n",
              "         'NOUN': 3074,\n",
              "         'NUM': 89,\n",
              "         'PART': 785,\n",
              "         'PRON': 1443,\n",
              "         'SCONJ': 97,\n",
              "         'VERB': 1940})"
            ]
          },
          "metadata": {
            "tags": []
          },
          "execution_count": 7
        }
      ]
    },
    {
      "cell_type": "markdown",
      "metadata": {
        "id": "dhZ7QTYeRAWQ"
      },
      "source": [
        "---\n",
        "**FEATURES ENCODING**\n",
        "\n",
        "---"
      ]
    },
    {
      "cell_type": "code",
      "metadata": {
        "id": "54kcgRG1Q_hs"
      },
      "source": [
        "dv = DictVectorizer(sparse=False)\n",
        "dv.fit(X_train + X_test)\n",
        "\n",
        "X_train = dv.transform(X_train)\n",
        "X_test = dv.transform(X_test)"
      ],
      "execution_count": null,
      "outputs": []
    },
    {
      "cell_type": "markdown",
      "metadata": {
        "id": "ZYWphIo2MIWm"
      },
      "source": [
        "\n",
        "---\n",
        "**LABELS ENCODING**\n",
        "\n",
        "---"
      ]
    },
    {
      "cell_type": "code",
      "metadata": {
        "id": "En3-tQflMR8j"
      },
      "source": [
        "le = LabelEncoder()\n",
        "le.fit(y_train + y_test)\n",
        "\n",
        "y_train = le.transform(y_train)\n",
        "y_test = le.transform(y_test)"
      ],
      "execution_count": null,
      "outputs": []
    },
    {
      "cell_type": "markdown",
      "metadata": {
        "id": "b8W9kCw3MSgQ"
      },
      "source": [
        "\n",
        "---\n",
        "**CLASSIFICATION**\n",
        "\n",
        "---"
      ]
    },
    {
      "cell_type": "code",
      "metadata": {
        "id": "mmAY14r_Vh1X",
        "colab": {
          "base_uri": "https://localhost:8080/",
          "height": 281
        },
        "outputId": "a17893e4-e4f6-45bc-b26e-ec28245de828"
      },
      "source": [
        "model = models.Sequential()\n",
        "model.add(layers.Dense(256, input_shape=(X_train.shape[1],)))\n",
        "model.add(layers.Dense(128, activation='relu'))\n",
        "model.add(layers.Dropout(0.2))\n",
        "model.add(layers.Dense(64, activation='relu'))\n",
        "model.add(layers.Dense(11, activation='softmax'))\n",
        "\n",
        "optimizer = Nadam(lr=0.0005,\n",
        "                  beta_1=0.9,\n",
        "                  beta_2=0.999,\n",
        "                  epsilon=1e-08,\n",
        "                  schedule_decay=0.004)\n",
        "\n",
        "model.compile(loss=\"sparse_categorical_crossentropy\",\n",
        "              optimizer=optimizer,\n",
        "              metrics=[\"accuracy\"])\n",
        "\n",
        "history = model.fit(X_train,\n",
        "                    y_train,\n",
        "                    epochs=7,\n",
        "                    batch_size=128)\n",
        "\n",
        "test_loss, test_acc = model.evaluate(X_test, y_test)"
      ],
      "execution_count": null,
      "outputs": [
        {
          "output_type": "stream",
          "text": [
            "Epoch 1/7\n",
            "137/137 [==============================] - 1s 8ms/step - loss: 0.9371 - accuracy: 0.7201\n",
            "Epoch 2/7\n",
            "137/137 [==============================] - 1s 7ms/step - loss: 0.1903 - accuracy: 0.9424\n",
            "Epoch 3/7\n",
            "137/137 [==============================] - 1s 7ms/step - loss: 0.1003 - accuracy: 0.9686\n",
            "Epoch 4/7\n",
            "137/137 [==============================] - 1s 8ms/step - loss: 0.0665 - accuracy: 0.9786\n",
            "Epoch 5/7\n",
            "137/137 [==============================] - 1s 8ms/step - loss: 0.0526 - accuracy: 0.9837\n",
            "Epoch 6/7\n",
            "137/137 [==============================] - 1s 7ms/step - loss: 0.0431 - accuracy: 0.9860\n",
            "Epoch 7/7\n",
            "137/137 [==============================] - 1s 8ms/step - loss: 0.0390 - accuracy: 0.9872\n",
            "303/303 [==============================] - 1s 3ms/step - loss: 0.2953 - accuracy: 0.9233\n"
          ],
          "name": "stdout"
        }
      ]
    },
    {
      "cell_type": "code",
      "metadata": {
        "id": "34GIDV3XMc3k",
        "colab": {
          "base_uri": "https://localhost:8080/",
          "height": 123
        },
        "outputId": "1a0d5351-ce82-4dc1-8a29-ea625c70e2cf"
      },
      "source": [
        "tree = DecisionTreeClassifier(random_state=10)\n",
        "tree.fit(X_train, y_train)"
      ],
      "execution_count": null,
      "outputs": [
        {
          "output_type": "execute_result",
          "data": {
            "text/plain": [
              "DecisionTreeClassifier(ccp_alpha=0.0, class_weight=None, criterion='gini',\n",
              "                       max_depth=None, max_features=None, max_leaf_nodes=None,\n",
              "                       min_impurity_decrease=0.0, min_impurity_split=None,\n",
              "                       min_samples_leaf=1, min_samples_split=2,\n",
              "                       min_weight_fraction_leaf=0.0, presort='deprecated',\n",
              "                       random_state=10, splitter='best')"
            ]
          },
          "metadata": {
            "tags": []
          },
          "execution_count": 11
        }
      ]
    },
    {
      "cell_type": "markdown",
      "metadata": {
        "id": "zQKhg1sdMdSM"
      },
      "source": [
        "\n",
        "---\n",
        "**EVALUATION**\n",
        "\n",
        "---"
      ]
    },
    {
      "cell_type": "code",
      "metadata": {
        "id": "ZoVuXXCoMf-h",
        "colab": {
          "base_uri": "https://localhost:8080/",
          "height": 87
        },
        "outputId": "4ae9c00f-ed8f-404c-f77e-7ff643c97efa"
      },
      "source": [
        "# Predict the labels for the test data\n",
        "pred_labels_tree = tree.predict(X_test)\n",
        "\n",
        "class_rep_tree = accuracy_score(y_test, pred_labels_tree)\n",
        "\n",
        "print(\"DT - test accuracy: \\n\", class_rep_tree)\n",
        "print(\"DNN - test accuracy: \\n\", test_acc)"
      ],
      "execution_count": null,
      "outputs": [
        {
          "output_type": "stream",
          "text": [
            "DT - test accuracy: \n",
            " 0.9166666666666666\n",
            "DNN - test accuracy: \n",
            " 0.9232836961746216\n"
          ],
          "name": "stdout"
        }
      ]
    },
    {
      "cell_type": "code",
      "metadata": {
        "id": "73sA-pUpeLYD",
        "colab": {
          "base_uri": "https://localhost:8080/",
          "height": 295
        },
        "outputId": "873daff9-1690-4198-e936-43a31af20a3b"
      },
      "source": [
        "plt.plot(history.history['accuracy'])\n",
        "plt.plot(history.history['loss'])\n",
        "plt.title('DNN - model accuracy')\n",
        "plt.xlabel('Epochs')\n",
        "plt.legend(['acc', 'loss'], loc='upper right')\n",
        "fig1 = plt.gcf()\n",
        "plt.show()"
      ],
      "execution_count": null,
      "outputs": [
        {
          "output_type": "display_data",
          "data": {
            "image/png": "[encoded data removed]",
            "text/plain": [
              "<Figure size 432x288 with 1 Axes>"
            ]
          },
          "metadata": {
            "tags": [],
            "needs_background": "light"
          }
        }
      ]
    },
    {
      "cell_type": "markdown",
      "metadata": {
        "id": "XVLHAaxkomfZ"
      },
      "source": [
        "\n",
        "\n",
        "---\n",
        "\n",
        "**CORRECT & INCORRECT CLASSIFICATIONS**\n",
        "\n",
        "---\n",
        "\n"
      ]
    },
    {
      "cell_type": "code",
      "metadata": {
        "id": "7j0EfaD5olYl"
      },
      "source": [
        "df = pd.DataFrame(test_unprocessed_features, columns=[\"input\"])\n",
        "\n",
        "df[\"actual\"] = test_unprocessed_labels\n",
        "df[\"predicted\"] = le.inverse_transform(pred_labels_tree)\n",
        "\n",
        "correct = df[df[\"actual\"] == df[\"predicted\"]]\n",
        "incorrect = df[df[\"actual\"] != df[\"predicted\"]]"
      ],
      "execution_count": null,
      "outputs": []
    },
    {
      "cell_type": "code",
      "metadata": {
        "id": "zLvKz1-QvzD2",
        "colab": {
          "base_uri": "https://localhost:8080/",
          "height": 203
        },
        "outputId": "7788de11-3ad8-44d1-f1e1-5b7399af76b3"
      },
      "source": [
        "correct.head()"
      ],
      "execution_count": null,
      "outputs": [
        {
          "output_type": "execute_result",
          "data": {
            "text/html": [
              "<div>\n",
              "<style scoped>\n",
              "    .dataframe tbody tr th:only-of-type {\n",
              "        vertical-align: middle;\n",
              "    }\n",
              "\n",
              "    .dataframe tbody tr th {\n",
              "        vertical-align: top;\n",
              "    }\n",
              "\n",
              "    .dataframe thead th {\n",
              "        text-align: right;\n",
              "    }\n",
              "</style>\n",
              "<table border=\"1\" class=\"dataframe\">\n",
              "  <thead>\n",
              "    <tr style=\"text-align: right;\">\n",
              "      <th></th>\n",
              "      <th>input</th>\n",
              "      <th>actual</th>\n",
              "      <th>predicted</th>\n",
              "    </tr>\n",
              "  </thead>\n",
              "  <tbody>\n",
              "    <tr>\n",
              "      <th>0</th>\n",
              "      <td>yad</td>\n",
              "      <td>PRON</td>\n",
              "      <td>PRON</td>\n",
              "    </tr>\n",
              "    <tr>\n",
              "      <th>3</th>\n",
              "      <td>viśva</td>\n",
              "      <td>DET</td>\n",
              "      <td>DET</td>\n",
              "    </tr>\n",
              "    <tr>\n",
              "      <th>4</th>\n",
              "      <td>rūpa</td>\n",
              "      <td>NOUN</td>\n",
              "      <td>NOUN</td>\n",
              "    </tr>\n",
              "    <tr>\n",
              "      <th>5</th>\n",
              "      <td>bhṛ</td>\n",
              "      <td>VERB</td>\n",
              "      <td>VERB</td>\n",
              "    </tr>\n",
              "    <tr>\n",
              "      <th>6</th>\n",
              "      <td>vācaspati</td>\n",
              "      <td>NOUN</td>\n",
              "      <td>NOUN</td>\n",
              "    </tr>\n",
              "  </tbody>\n",
              "</table>\n",
              "</div>"
            ],
            "text/plain": [
              "       input actual predicted\n",
              "0        yad   PRON      PRON\n",
              "3      viśva    DET       DET\n",
              "4       rūpa   NOUN      NOUN\n",
              "5        bhṛ   VERB      VERB\n",
              "6  vācaspati   NOUN      NOUN"
            ]
          },
          "metadata": {
            "tags": []
          },
          "execution_count": 15
        }
      ]
    },
    {
      "cell_type": "code",
      "metadata": {
        "id": "iWXR1duwvwQ9",
        "colab": {
          "base_uri": "https://localhost:8080/",
          "height": 203
        },
        "outputId": "7f9a0a83-60d5-4519-805b-9f250027baa2"
      },
      "source": [
        "incorrect.head()"
      ],
      "execution_count": null,
      "outputs": [
        {
          "output_type": "execute_result",
          "data": {
            "text/html": [
              "<div>\n",
              "<style scoped>\n",
              "    .dataframe tbody tr th:only-of-type {\n",
              "        vertical-align: middle;\n",
              "    }\n",
              "\n",
              "    .dataframe tbody tr th {\n",
              "        vertical-align: top;\n",
              "    }\n",
              "\n",
              "    .dataframe thead th {\n",
              "        text-align: right;\n",
              "    }\n",
              "</style>\n",
              "<table border=\"1\" class=\"dataframe\">\n",
              "  <thead>\n",
              "    <tr style=\"text-align: right;\">\n",
              "      <th></th>\n",
              "      <th>input</th>\n",
              "      <th>actual</th>\n",
              "      <th>predicted</th>\n",
              "    </tr>\n",
              "  </thead>\n",
              "  <tbody>\n",
              "    <tr>\n",
              "      <th>1</th>\n",
              "      <td>triṣapta</td>\n",
              "      <td>ADJ</td>\n",
              "      <td>NOUN</td>\n",
              "    </tr>\n",
              "    <tr>\n",
              "      <th>2</th>\n",
              "      <td>parī</td>\n",
              "      <td>VERB</td>\n",
              "      <td>NOUN</td>\n",
              "    </tr>\n",
              "    <tr>\n",
              "      <th>16</th>\n",
              "      <td>deva</td>\n",
              "      <td>ADJ</td>\n",
              "      <td>NOUN</td>\n",
              "    </tr>\n",
              "    <tr>\n",
              "      <th>53</th>\n",
              "      <td>śru</td>\n",
              "      <td>VERB</td>\n",
              "      <td>NOUN</td>\n",
              "    </tr>\n",
              "    <tr>\n",
              "      <th>58</th>\n",
              "      <td>śru</td>\n",
              "      <td>VERB</td>\n",
              "      <td>NOUN</td>\n",
              "    </tr>\n",
              "  </tbody>\n",
              "</table>\n",
              "</div>"
            ],
            "text/plain": [
              "       input actual predicted\n",
              "1   triṣapta    ADJ      NOUN\n",
              "2       parī   VERB      NOUN\n",
              "16      deva    ADJ      NOUN\n",
              "53       śru   VERB      NOUN\n",
              "58       śru   VERB      NOUN"
            ]
          },
          "metadata": {
            "tags": []
          },
          "execution_count": 16
        }
      ]
    },
    {
      "cell_type": "code",
      "metadata": {
        "id": "VIR00P6iwLy5",
        "colab": {
          "base_uri": "https://localhost:8080/",
          "height": 246
        },
        "outputId": "11618534-93a3-4b82-aba3-576dd2e11b73"
      },
      "source": [
        "print('Incorrect Predictions on Test data:\\n')\n",
        "incorrect['predicted'].value_counts() # MOSTLY NOUN MAYBE BECAUSE NOUN HAS MAX SAMPLES"
      ],
      "execution_count": null,
      "outputs": [
        {
          "output_type": "stream",
          "text": [
            "Incorrect Predictions on Test data:\n",
            "\n"
          ],
          "name": "stdout"
        },
        {
          "output_type": "execute_result",
          "data": {
            "text/plain": [
              "NOUN     367\n",
              "VERB     130\n",
              "ADJ      108\n",
              "ADV       74\n",
              "PRON      72\n",
              "DET       16\n",
              "AUX       15\n",
              "NUM       12\n",
              "SCONJ      8\n",
              "PART       4\n",
              "Name: predicted, dtype: int64"
            ]
          },
          "metadata": {
            "tags": []
          },
          "execution_count": 17
        }
      ]
    }
  ]
}